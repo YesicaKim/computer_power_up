{
 "cells": [
  {
   "cell_type": "markdown",
   "metadata": {},
   "source": [
    "## 컴퓨터 Power Up \n",
    "\n",
    "* 학습 목표\n",
    "    - 멀티태스킹, 병렬프로그래밍과 동시성에 대해 이해합니다.\n",
    "    - 파이썬으로 멀티스레드와 멀티프로세스를 구현하는 법에 대해 학습합니다.\n",
    "    - 파이썬의 concurrent.futures를 이용한 병렬 프로그래밍을 구현해 봅니다.\n",
    "    \n",
    "### 학습 내용\n",
    "\n",
    "1. 멀티태스킹\n",
    "\n",
    "    - 멀티태스킹이란?\n",
    "    - 컴퓨터의 세계 - 프로그램\n",
    "    - 프로그램 실행과 프로파일링\n",
    "    - scale-up vs scale-out\n",
    "\n",
    "2. 멀티프로세스, 멀티스레드\n",
    "\n",
    "    - 멀티스레드\n",
    "    - 멀티프로세스\n",
    "    - 스레드/프로세스 풀\n",
    "\n",
    "3. 실전 예제\n",
    "\n",
    "    - concurrent.futures 모듈\n",
    "    - 소수구하기 문제"
   ]
  },
  {
   "cell_type": "markdown",
   "metadata": {},
   "source": [
    "## 멀티태스킹 (1) 멀티태스킹이란?\n",
    "\n",
    "빅데이터를 다루기 위해서는 몇 가지 중요한 개념들을 알아야 합니다. 컴퓨팅 자원을 최적화 하는 방법, 즉 병렬 컴퓨팅, 분산 컴퓨팅 등 개념입니다. 어떻게 컴퓨팅 파워를 향상시킬 수 있을까요? 어떻게 한정된 컴퓨팅 자원을 활용하여 여러 가지 일을 효율적으로 진행할 수 있을까요?\n",
    "\n",
    "우리는 TV를 보면서 밥을 먹는 일을 하기도 하고, 설거지를 하면서 라디오를 듣기도 합니다. 우리는 이렇게 2가지 작업을 동시에 할 수 있습니다. 컴퓨터에게도 이렇게 일을 시키고 싶어지지 않나요? 사실 어느 정도 가능합니다. 특히 컴퓨터에서는 이렇게 여러 가지 작업을 동시에 하는 것을 \"멀티태스킹\"이라고 합니다.\n",
    "\n",
    "1. 동시성\n",
    "\n",
    "동시성(Concurrency): 배달과 그릇 찾기라는 2가지 작업을 한다고 할 때, 한 명의 직원을 고용해도 사람이 바삐 움직여 주기만 하면 배달, 그릇찾기, 배달, 그릇 찾기 등 여러 가지 일을 동시에 수행할 수 있습니다. 물론 진짜로 동시에 하는 건 아니지만, 오늘 하루의 일과를 보고 받을 때에는 2가지 일이 동시에 종료가 되었다고 말하겠지요. 이렇게 정말로 동시에 하는 건 아니지만 여러 가지 일을 빠르게 번갈아가며 수행해 동시에 수행하는 것처럼 일하는 것을 동시성이라고 합니다.\n",
    "\n",
    "2. 병렬성\n",
    "\n",
    "병렬성(Parallelism): 업무를 분담해서 할 수도 있을 겁니다. 두 명의 직원을 고용해서 한 명은 그릇 찾기 일만 하고 한 명은 배달 일만 하는 거예요. 이런 경우에는 정말 동시에 2가지 일이 진행될 수 도 있겠네요. 이 경우 일이 병렬적으로 처리된다고 말합니다.\n"
   ]
  },
  {
   "cell_type": "markdown",
   "metadata": {},
   "source": [
    "### 동기 vs 비동기 (Synchronous vs Asynchronous)\n",
    "\n",
    "어떤 일을 바로 하지 못하고 대기해야 하는 일을 일컬을 때 컴퓨터에서는 \"바운드(bound)되었다\" 라는 표현을 많이 씁니다. 이렇게 바운드되고 있으면 이걸 계속 기다려야 할지 아니면 종료되는 사이에 다른 걸 실행하는것이 좋을지 고민이 되지요.\n",
    "\n",
    "개념을 일반화 시켜 이야기하면 작동하는 방식에 따라 앞 작업이 종료되기를 무조건 기다렸다가 다음 작업을 수행하는 것은 동기(synchronized) 방식이라고 이야기합니다. 기다리는 동안 다른 일을 처리하는 것을 비동기(asynchronous) 방식이라고 이야기합니다.\n",
    "\n",
    "\n",
    "- 동기(Synchronous) : 어떤 일이 순차적으로 실행됨, 요청과 요청에 대한 응답이 동시에 실행됨 (따라서 요청에 지연이 발생하더라도 계속 대기한다.)\n",
    "- 비동기(Asynchronous) : 어떤 일이 비순차적으로 실행됨, 요청과 요청에 대한 응답이 동시에 실행되지 않음. 특정 코드의 연산이 끝날 때까지 코드의 실행을 멈추지 않고 다음 코드를 먼저 실행하며, 중간에 실행되는 코드는 주로 콜백함수로 연결하기도 한다."
   ]
  },
  {
   "cell_type": "markdown",
   "metadata": {},
   "source": [
    "### I/O Bound vs CPU Bound\n",
    "\n",
    "컴퓨터가 일을 수행하면서 뭔가 기다릴 때, 즉 속도에 제한이 걸릴 때는 2가지 경우에 해당하는 경우가 대부분입니다.\n",
    "\n",
    "I/O 바운드: \n",
    "CPU 바운드: \n",
    "    \n",
    "- CPU Bound 는 프로세스가 진행되는 속도가 CPU 속도에 의해 제한됨을 의미합니다. 예를 들어 큰 행렬을 곱하는 것과 복잡한 수식 계산이나 그래픽 작업과 같은 엄청난 계산이 필요한 작업은 CPU 제한이있을 수 있습니다. \n",
    "\n",
    "- I/O Bound 는 프로세스가 진행되는 속도가 I/O 하위 시스템의 속도에 의해 제한됨을 의미합니다. 예를 들어, 파일의 줄 수를 세는 것과 같이 디스크에서 데이터를 처리하는 작업 같이 입력과 출력에서의 데이터(파일)처리에 시간이 소요될 때 I/O 바운드 일 가능성이 높습니다.\n",
    "\n",
    "- Memory Bound 는 프로세스가 진행되는 속도가 사용 가능한 메모리 양과 해당 메모리 액세스 속도에 의해 제한됨을 의미합니다. 많은 양의 메모리 데이터를 처리하는 작업 (예 : 큰 행렬 곱하기)은 Memory Bound 일 가능성이 높습니다.\n",
    "\n",
    "- Cache Bound 는 사용 가능한 캐시의 양과 속도에 따라 프로세스 진행이 제한되는 속도를 의미합니다. 캐시에 맞는 것보다 더 많은 데이터를 단순히 처리하는 작업은 캐시 바인딩됩니다.\n",
    "\n",
    "* I/O Bound는 Memory Bound보다 느리고, Cache Bound는 CPU Bound보다 느립니다. "
   ]
  },
  {
   "cell_type": "markdown",
   "metadata": {},
   "source": [
    "## 멀티태스킹 (2) 프로세스, 쓰레드, 프로파일링\n",
    "\n",
    "- 우리는 PPT 문서 작업을 하면서, 노래를 듣기도 하고, 웹 브라우저를 이용해 검색을 하기도 합니다. 요즘 컴퓨터에서는 이렇게 여러 개 프로그램을 동시에 실행시키는 멀티태스킹이 기본 사양입니다.\n",
    "\n",
    "- 맥(Mac)의 활성 상태 보기(Activity Monitor)나 윈도우(Windows)의 작업 관리자(Task Manager)를 통해 현재 실행되고 있는 프로그램의 상태를 확인할 수 있습니다.\n",
    "\n",
    "### Process(프로세스) : An Instance of a program (ex. Python Interpreter)\n",
    "\n",
    "- 하나의 프로그램을 실행할 때, 운영체제는 한 프로세스를 생성합니다. 프로세스는 운영체제의 커널(Kernel)에서 시스템 자원(CPU, 메모리, 디스크) 및 자료구조를 이용합니다.\n",
    "\n",
    "- 프로세스는 \"프로그램을 구동하여 프로그램 자체와 프로그램의 상태가 메모리 상에서 실행되는 작업 단위\"를 지칭합니다 (출처: 위키백과 - 프로세스). 예를 들어, 하나의 프로그램을 한 번 구동하면 하나의 프로세스가 메모리 상에서 실행되지만 여러 번 구동하면 여러 개의 프로세스가 실행됩니다.\n",
    "\n",
    "- 파이썬에서는 os 라는 모듈에서 프로세스 관련 정보를 얻을 수 있습니다."
   ]
  },
  {
   "cell_type": "code",
   "execution_count": 11,
   "metadata": {},
   "outputs": [
    {
     "name": "stdout",
     "output_type": "stream",
     "text": [
      "11832\n",
      "1000\n",
      "1000\n",
      "/home/aiffel0042/aiffel/multitasking\n"
     ]
    }
   ],
   "source": [
    "import os\n",
    "\n",
    "# process ID, AIFFEL LMS가 연결한 jupyter 커널 프로세스\n",
    "print(os.getpid())\n",
    "\n",
    "# user ID\n",
    "print(os.getuid())\n",
    "\n",
    "# group ID\n",
    "print(os.getgid())\n",
    "\n",
    "# 현재 작업중인 디렉토리\n",
    "print(os.getcwd())"
   ]
  },
  {
   "cell_type": "markdown",
   "metadata": {},
   "source": [
    "### Thread(스레드)\n",
    "\n",
    "- 프로그램 내에서도 많은 작업들이 있습니다. 스레드(thread)는 어떠한 프로그램 내에서, 특히 프로세스 내에서 실행되는 흐름의 단위입니다. 예를 들어 요리를 만드는 프로그램이라고 한다면 김밥, 떡볶이를 만드는 각각의 요리라는 프로세스에도, 밥짓기, 재료 볶기, 끓이기 등등의 작업을 스레드에 비유할 수 있습니다. 같은 작업을 좀 더 빠르게 처리하기 위해 여러 개의 스레드를 생성하기도 합니다.\n",
    "\n",
    "- 프로세스와 스레드의 차이가 명확하게 이해되시나요? 아래 그림을 예로 들자면, 프로세스는 김밥, 떡볶이를 만드는 각각의 요리사와 같습니다. 이들은 각자의 전용 주방공간에서 밥짓기, 재료 볶기, 끓이기 등등의 작업를 병렬적으로 수행합니다. 도마, 불판 등 주방공간은 각각의 작업에 공유되지만, 요리사끼리 주방공간을 공유하지는 않습니다. 마찬가지로 프로세스도 자신만의 전용 메모리공간(Heap)을 가집니다. 이때 해당 프로세스 내의 스레드들은 이 메모리공간을 공유합니다. 그러나 다른 프로세스와 공유하지는 않습니다.\n",
    "\n",
    "- 스레드의 사용은 프로그램마다 다르지만, 가벼운 프로그램은 하나의 스레드를 가지기도 합니다."
   ]
  },
  {
   "cell_type": "markdown",
   "metadata": {},
   "source": [
    "### 프로파일링(Profiling)\n",
    "\n",
    "- 코드에서 시스템의 어느 부분이 느린지 혹은 어디서 RAM을 많이 사용하고 있는지를 확인하고 싶을 때 사용하는 기법인데요. 맥(mac)의 활성 상태 보기(activity monitor)나 윈도우(windows)의 작업 관리자(task manager)를 통해 현재 실행 중인 프로그램의 상태를 확인하는 작업을 코딩하는 것을 프로파일링이라고 한답니다.\n",
    "\n",
    "- 파이썬에서는 다음 명령어로 확인 할 수 있습니다. 이런 식으로 함수의 성능을 측정할 수 있습니다. 사실 이건 시간을 측정하는 방법이라서 프로파일링이라고 하기에는 좀 민망 할 수도 있답니다.😅\n",
    "\n",
    "- 좀 더 엄밀히 말하면 프로파일링은 애플리케이션에서 가장 자원이 집중되는 지점을 정밀하게 찾아내는 기법입니다. 프로파일러는 애플리케이션을 실행시키고 각각의 함수 실행에 드는 시간을 찾아내는 프로그램이에요. 즉, 코드의 병목(bottleneck)을 찾아내고 성능을 측정해 주는 도구입니다.\n",
    "\n",
    "- profile 모듈, cProfile 모듈과 line_profiler 패키지를 이용하면 높은 수준의 프로파일링이 가능한 점, 참고해주세요!"
   ]
  },
  {
   "cell_type": "code",
   "execution_count": 12,
   "metadata": {
    "scrolled": true
   },
   "outputs": [
    {
     "name": "stdout",
     "output_type": "stream",
     "text": [
      "set               : 1.1988551959984761 [ms]\n",
      "list              : 0.6207263139986026 [ms]\n",
      "tuple             : 0.5928490299993427 [ms]\n",
      "string            : 0.37794351300181006 [ms]\n",
      "set_add           : 4.281604814997991 [ms]\n",
      "list_append       : 3.9684386549997726 [ms]\n",
      "set_comprehension : 4.321657321997918 [ms]\n",
      "list_comprehension: 4.027470577999338 [ms]\n"
     ]
    }
   ],
   "source": [
    "# 이렇게 간단하게 프로그램의 수행 시간을 계산해 보면서 프로파일링을 할 수 있습니다.\n",
    "\n",
    "# 100까지 숫자를 배열로 만드는 방법을 각각 다른 방법으로 구현해 보고 실행 시간을 측정해 보겠습니다.\n",
    "\n",
    "import timeit\n",
    "        \n",
    "def f1():\n",
    "    s = set(range(100))\n",
    "\n",
    "    \n",
    "def f2():\n",
    "    l = list(range(100))\n",
    "\n",
    "    \n",
    "def f3():\n",
    "    t = tuple(range(100))\n",
    "\n",
    "\n",
    "def f4():\n",
    "    s = str(range(100))\n",
    "\n",
    "    \n",
    "def f5():\n",
    "    s = set()\n",
    "    for i in range(100):\n",
    "        s.add(i)\n",
    "\n",
    "def f6():\n",
    "    l = []\n",
    "    for i in range(100):\n",
    "        l.append(i)\n",
    "    \n",
    "def f7():\n",
    "    s_comp = {i for i in range(100)}\n",
    "\n",
    "    \n",
    "def f8():\n",
    "    l_comp = [i for i in range(100)]\n",
    "    \n",
    "\n",
    "if __name__ == \"__main__\":\n",
    "    t1 = timeit.Timer(\"f1()\", \"from __main__ import f1\")\n",
    "    t2 = timeit.Timer(\"f2()\", \"from __main__ import f2\")\n",
    "    t3 = timeit.Timer(\"f3()\", \"from __main__ import f3\")\n",
    "    t4 = timeit.Timer(\"f4()\", \"from __main__ import f4\")\n",
    "    t5 = timeit.Timer(\"f5()\", \"from __main__ import f5\")\n",
    "    t6 = timeit.Timer(\"f6()\", \"from __main__ import f6\")\n",
    "    t7 = timeit.Timer(\"f7()\", \"from __main__ import f7\")\n",
    "    t8 = timeit.Timer(\"f8()\", \"from __main__ import f8\")\n",
    "    print(\"set               :\", t1.timeit(), '[ms]')\n",
    "    print(\"list              :\", t2.timeit(), '[ms]')\n",
    "    print(\"tuple             :\", t3.timeit(), '[ms]')\n",
    "    print(\"string            :\", t4.timeit(), '[ms]')\n",
    "    print(\"set_add           :\", t5.timeit(), '[ms]')\n",
    "    print(\"list_append       :\", t6.timeit(), '[ms]')\n",
    "    print(\"set_comprehension :\", t5.timeit(), '[ms]')\n",
    "    print(\"list_comprehension:\", t6.timeit(), '[ms]')"
   ]
  },
  {
   "cell_type": "markdown",
   "metadata": {},
   "source": [
    "## 멀티태스킹 (3) Scale Up vs. Scale Out\n",
    "\n",
    "컴퓨터 자원을 활용하기 위해 자원을 Up(업그레이드, 최적화) 시킬수도 있고 자원을 Out(확장)시킬 수도 있습니다. 아래 두 방법 중 어떤 방법을 선택해야 할까요?\n",
    "\n",
    "- Scale-Up\n",
    "    - 한 대의 컴퓨터의 성능을 최적화 시키는 방법\n",
    "    - 단일 서버(하드웨어)의 성능을 증가시켜서 더 많은 요청을 처리하는 방법\n",
    "    - 단일 하드웨어의 성능을 높이기 위해 CPU, 메모리, 하드디스크 등을 업그레이드하거나 추가하는 것을 의미\n",
    "    - 스케일업은 별도의 서버를 추가하지 않기 때문에 여러 대의 서버를 관리하면서 발생하는 데이터 정합성 이슈에서 자유롭습니다. \n",
    "        - 스케일 업의 경우에는 빈번한 갱신이 일어나는 가운데 철저하게 ACID를 지켜야만 하는 관계형 데이터베이스 서버와 같은 시스템에서 적절합니다.\n",
    "    - 서버를 한 대로 관리하면 별도의 소프트웨어 라이선스 추가 비용이 발생하지 않습니다. \n",
    "    - 무엇보다도 스케일 업은 하드웨어를 추가하고 교체하는 작업이기 때문에 구현이 어렵지 않습니다.\n",
    "    - 이렇게 구현도 쉽고, 관리도 쉽다면 과연 스케일 업의 한계는 무엇일까요?\n",
    "        - 하나의 서버 장비에는 설치 가능한 CPU, 메모리, 디스크 수의 제한이 있습니다. \n",
    "        - 한정된 자원을 초과하여 성능을 증가시키기 위해서는 서버 자체를 변경해야만 합니다.\n",
    "        - 소프트웨어 구조상 아무리 스케일 업을 한다고 하더라도 일정 수준이 넘어가는 순간 성능 증가 폭이 미미해지게 됩니다\n",
    "        - 최종적으로는 성능 증가 대비 업그레이드 비용 굉장히 비싸집니다.\n",
    "        - 서버 한 대가 모든 클라이언트의 트래픽을 감당하므로 장애시 해당 서버가 복구 전까지 서비스를 중단해야 하는 상황에 빠질 수 있습니다.\n",
    "\n",
    "- Scale-Out\n",
    "    - 여러 대의 컴퓨터를 한 대처럼 사용하는 것\n",
    "    - 동일한 사양의 새로운 서버를 추가하여 성능을 증가시키는 방법\n",
    "    - 서버가 증설됨에 따라 여러 대의 서버가 트래픽을 나누어 갖게 되고, 각각의 서버가 이를 처리하게 됨\n",
    "    - 스케일 아웃은 동일한 사양의 새로운 서버를 추가하여 성능을 증가시키는 방법을 말합니다. 스케일 아웃을 하게 되면 하나의 노드에서 장애가 발생하더라도 다른 노드에서 서비스 제공이 가능하여 가용성을 높일 수 있다는 장점이 있습니다.\n",
    "    - 무엇보다도 필요에 따라 더 많은 서버를 추가하고 감소시킬 수 있습니다. 즉 스케일 업이 확장에 한계가 있는 반면에 스케일 아웃의 경우 확장에 유연합니다.\n",
    "    - 스케일 아웃을 하면 로드 밸런싱을 구현해야만 합니다. 이는 트래픽이 증가함에 따라 서버의 로드율, 부하량, 처리 속도 등을 고려하여 여러 대의 서버가 트래픽을 아래 그림과 같이 적절히 분담하여 처리할 수 있도록 합니다. 이를 통해 상대적으로 단일 서버에 작업이 쌓여서 멈춰있는 병목현상을 줄일 수 있습니다.\n",
    "    - 서버가 여러 대로 늘어남에 따라서 각 서버에 설치해야 하는 소프트웨어 라이선스 비용이 증가합니다. 이러한 단점의 경우에는 가능한 오픈소스를 활용한다면 어느 정도 비용을 절약할 수 있겠죠?\n",
    "    - 이보다 가장 치명적인 단점은 여러 대의 서버로 하나의 서비스를 위해 사용함으로써 데이터 불일치가 잠재적으로 발생할 수 있다는 점입니다.\n",
    "    - 스케일 아웃의 경우에는 각각의 트랜잭션 처리는 비교적 단순하지만 다수의 처리를 동시 병행적으로 실시하지 않으면 안 되는 경우에 적절합니다. \n",
    "    - 가장 적절한 예가 웹 서버입니다. 웹 서버는 네트워크로부터 보내온 다수의 요구를 동시 병행하여 처리할 필요가 있지만 각각 처리는 비교적 단순하기 때문입니다.\n",
    "    - 현재 진행 중인 프로젝트인 'AGORA' 웹 애플리케이션은 소셜 네트워크 서비스이므로 다수의 클라이언트가 접속하고 요청을 처리하는 웹 서비스입니다. 이러한 서비스를 감당하는 서버의 경우 스케일 아웃이 적절할 것이라고 생각되는데 지속적으로 의문이 생기는 정합성 문제는 어떻게 해결해야 할까요?"
   ]
  },
  {
   "cell_type": "markdown",
   "metadata": {},
   "source": [
    "## 파이썬에서 멀티스레드 사용하기 (1) 스레드 생성\n",
    "\n",
    "* 기본 코드\n",
    "    - 아래 코드는 음식 배달과 그릇찾기 2가지 작업을 수행하는 코드입니다."
   ]
  },
  {
   "cell_type": "code",
   "execution_count": 13,
   "metadata": {},
   "outputs": [
    {
     "name": "stdout",
     "output_type": "stream",
     "text": [
      "delivery\n",
      "Retriving Dish\n"
     ]
    }
   ],
   "source": [
    "class Delivery:\n",
    "    def run(self):\n",
    "        print(\"delivery\")\n",
    "\n",
    "class RetriveDish:\n",
    "    def run(self):\n",
    "        print(\"Retriving Dish\")\n",
    "\n",
    "work1 = Delivery()\n",
    "work2 = RetriveDish()\n",
    "\n",
    "def main():\n",
    "    work1.run()\n",
    "    work2.run()\n",
    "\n",
    "if __name__ == '__main__':\n",
    "    main()"
   ]
  },
  {
   "cell_type": "markdown",
   "metadata": {},
   "source": [
    "### 멀티스레드\n",
    "다음과 같이 코드를 고쳐봅시다.\n",
    "\n",
    "threading 모듈을 import 하고\n",
    "클래스에 Thread를 상속받습니다."
   ]
  },
  {
   "cell_type": "code",
   "execution_count": 14,
   "metadata": {},
   "outputs": [
    {
     "name": "stdout",
     "output_type": "stream",
     "text": [
      "delivery\n",
      "Retriving Dish\n"
     ]
    }
   ],
   "source": [
    "from threading import *\n",
    "\n",
    "class Delivery(Thread):\n",
    "    def run(self):\n",
    "        print(\"delivery\")\n",
    "\n",
    "class RetriveDish(Thread):\n",
    "    def run(self):\n",
    "        print(\"Retriving Dish\")\n",
    "\n",
    "work1 = Delivery()\n",
    "work2 = RetriveDish()\n",
    "\n",
    "def main():\n",
    "    work1.run()\n",
    "    work2.run()\n",
    "\n",
    "if __name__ == '__main__':\n",
    "    main()"
   ]
  },
  {
   "cell_type": "markdown",
   "metadata": {},
   "source": [
    "## 스레드 생성 확인\n",
    "함수 이름을 출력하면 함수 객체를 확인할 수 있습니다."
   ]
  },
  {
   "cell_type": "code",
   "execution_count": 15,
   "metadata": {},
   "outputs": [
    {
     "name": "stdout",
     "output_type": "stream",
     "text": [
      "<bound method Delivery.run of <__main__.Delivery object at 0x7fef505427d0>>\n",
      "<bound method Delivery.run of <Delivery(Thread-10, initial)>>\n"
     ]
    }
   ],
   "source": [
    "from threading import *\n",
    "\n",
    "class Delivery:\n",
    "    def run(self):\n",
    "        print(\"delivering\")\n",
    "\n",
    "work1 = Delivery()\n",
    "print(work1.run)\n",
    "\n",
    "class Delivery(Thread):\n",
    "    def run(self):\n",
    "        print(\"delivering\")\n",
    "\n",
    "work2 = Delivery()\n",
    "print(work2.run)"
   ]
  },
  {
   "cell_type": "markdown",
   "metadata": {},
   "source": [
    "## 파이썬에서 멀티스레드 사용하기 (2) 스레드 생성 및 사용\n",
    "\n",
    "### 스레드 생성\n",
    "\n",
    "thread 모듈의 Thread 클래스를 상속받아서 구현할 수도 있지만 그대로 인스턴스화 하여 스레드를 생성할 수도 있습니다.\n",
    "\n",
    "인스턴스화 하려면 Thread 클래스에 인자로 target과 args 값을 넣어 줍니다. args에 넣어 준 파라미터는 스레드 함수의 인자로 넘어갑니다.\n",
    "\n",
    "t = Thread(target=함수이름, args=())\n",
    "Thread 클래스에는 start(), join() 같은 스레드 동작 관련 메소드가 있습니다. Thread로 실행할 함수를 정의한 후 start() 를 통해 쓰레드를 실행합니다."
   ]
  },
  {
   "cell_type": "code",
   "execution_count": 16,
   "metadata": {},
   "outputs": [
    {
     "name": "stdout",
     "output_type": "stream",
     "text": [
      "do  Overwork\n",
      "do  Overwork\n",
      "do  Overwork\n",
      "do  Overwork\n"
     ]
    }
   ],
   "source": [
    "from threading import *\n",
    "from time import sleep\n",
    "\n",
    "Stopped = False\n",
    "\n",
    "def worker(work, sleep_sec):    # 일꾼 스레드입니다.\n",
    "    while not Stopped:   # 그만 하라고 할때까지\n",
    "        print('do ', work)    # 시키는 일을 하고\n",
    "        sleep(sleep_sec)    # 잠깐 쉽니다.\n",
    "    print('retired..')           # 언젠가 이 굴레를 벗어나면, 은퇴할 때가 오겠지요?\n",
    "        \n",
    "t = Thread(target=worker, args=('Overwork', 3))    # 일꾼 스레드를 하나 생성합니다. 열심히 일하고 3초간 쉽니다.\n",
    "t.start()    # 일꾼, 이제 일을 해야지? 😈"
   ]
  },
  {
   "cell_type": "code",
   "execution_count": 17,
   "metadata": {},
   "outputs": [
    {
     "name": "stdout",
     "output_type": "stream",
     "text": [
      "retired..\n",
      "worker is gone.\n"
     ]
    }
   ],
   "source": [
    "# 이 코드 블럭을 실행하기 전까지는 일꾼 스레드는 종료하지 않습니다. \n",
    "Stopped = True    # 일꾼 일 그만하라고 세팅해 줍시다. \n",
    "t.join()                    # 일꾼 스레드가 종료할때까지 기다립니다. \n",
    "print('worker is gone.')"
   ]
  },
  {
   "cell_type": "markdown",
   "metadata": {},
   "source": [
    "##  파이썬에서 멀티프로세스 사용하기\n",
    "\n",
    "파이썬에서 멀티프로세스의 구현은 multiprocessing 모듈을 이용해서 할 수 있습니다."
   ]
  },
  {
   "cell_type": "markdown",
   "metadata": {},
   "source": [
    "### 프로세스 생성\n",
    "\n",
    "프로세스 또한 스레드와 유사한 방법으로 생성합니다.\n",
    "\n",
    "Process 인스턴스를 만든 뒤, target 과 args 파라미터에 각각 함수 이름과 함수 인자를 전달합니다.\n"
   ]
  },
  {
   "cell_type": "code",
   "execution_count": 18,
   "metadata": {},
   "outputs": [
    {
     "name": "stdout",
     "output_type": "stream",
     "text": [
      "delivering...\n"
     ]
    }
   ],
   "source": [
    "import multiprocessing as mp\n",
    "\n",
    "def delivery():\n",
    "    print('delivering...')\n",
    "\n",
    "p = mp.Process(target=delivery, args=())\n",
    "p.start()"
   ]
  },
  {
   "cell_type": "markdown",
   "metadata": {},
   "source": [
    "### 프로세스 사용\n",
    "\n",
    "Process 클래스는 start(), join(), terminate() 같은 프로세스 동작 관련 메소드가 있습니다.\n",
    "\n",
    "p = mp.Process(target=delivery, args=())\n",
    "\n",
    "p.start() # 프로세스 시작\n",
    "\n",
    "p.join() # 실제 종료까지 기다림 (필요시에만 사용)\n",
    "\n",
    "p.terminate() # 프로세스 종료"
   ]
  },
  {
   "cell_type": "markdown",
   "metadata": {},
   "source": [
    "### 파이썬에서 스레드/프로세스 풀 사용하기\n",
    "\n",
    "지금까지 스레드와 프로세스를 생성하는 방법을 배웠는데요.. 사실 멀티스레드/프로세스 작업을 할 때 가장 많은 연산이 필요한 작업은 바로 이런 스레드나 프로세스를 생성하고 종료하는 일입니다. 특히 스레드/프로세스를 사용한 뒤에는 제대로 종료해 주어야 컴퓨팅 리소스가 낭비되지 않습니다.\n",
    "\n",
    "또 지금까지 본 것처럼 하나씩 하나씩 실행한다고 전체적인 프로그램의 성능이 좋아지지는 않아요. 오히려 더 번거로울 수 있습니다. 그래서 실제로 사용할 때에는 스레드/프로세스 풀을 사용해서 생성합니다.\n",
    "\n",
    "\"풀\"이란 영어로 Pool인데요, 스레드나 프로세스들로 가득찬 풀장이라고 생각하면 됩니다. 스레드 풀을 만들면 각각의 태스크들에 대해 자동으로 스레드들을 할당하고 종료합니다.\n",
    "\n",
    "풀을 만드는 방법은 크게 2가지가 있습니다.\n",
    "\n",
    "- Queue라는 자료구조를 사용해서 스스로 만드는 방법\n",
    "\n",
    "- concurrent.futures 라이브러리의 ThreadPoolExecutor , ProcessPoolExecutor클래스를 이용하는 방법\n",
    "\n",
    "2가지 방법 모두 많이 사용하는 방법입니다. 아직 자료구조에 대해 배우지 않았으니 여기서는 concurrent.futures 모듈을 사용하는 방법만을 이용해 구현해 보겠습니다."
   ]
  },
  {
   "cell_type": "markdown",
   "metadata": {},
   "source": [
    "### 1. concurrent.future 모듈 소개\n",
    "\n",
    "이 모듈은 파이썬 3.2부터 추가된 모듈입니다. Java 언어를 배운 적이 있다면 ThreadPoolExecutor 에 대해 들어본 적이 있을 거예요. 이를 파이썬에서 구현한 형태라고 생각하시면 편합니다. 한국말로 \"동시성 퓨처\"라고 번역해서 부르기도 하는데, 기능은 크게 4가지가 있습니다.\n",
    "\n",
    "- Executor 객체\n",
    "- ThreadPoolExecutor 객체\n",
    "- ProcessPoolExecutor 객체\n",
    "- Future 객체\n",
    "\n",
    "여기서는 Thread/Process Pool 구현에 필요한 부분만 살펴 보겠습니다."
   ]
  },
  {
   "cell_type": "markdown",
   "metadata": {},
   "source": [
    "#### ThreadPoolExecutor\n",
    "Executor 객체를 이용하면 스레드 생성, 시작, 조인 같은 작업을 할 때, with 컨텍스트 관리자와 같은 방법으로 가독성 높은 코드를 구현할 수 있습니다. (프로세스 구현 방법 역시 동일하므로 설명은 스레드로만 하겠습니다.)"
   ]
  },
  {
   "cell_type": "code",
   "execution_count": 19,
   "metadata": {},
   "outputs": [
    {
     "name": "stdout",
     "output_type": "stream",
     "text": [
      "delivering\n"
     ]
    }
   ],
   "source": [
    "from concurrent.futures import ThreadPoolExecutor\n",
    "\n",
    "class Delivery:\n",
    "    def run(self):\n",
    "        print(\"delivering\")\n",
    "w = Delivery()\n",
    "\n",
    "with ThreadPoolExecutor() as executor:\n",
    "    future = executor.submit(w.run)"
   ]
  },
  {
   "cell_type": "markdown",
   "metadata": {},
   "source": [
    "#### multiprocessing.Pool\n",
    "multiprocessing.Pool.map을 통해 여러개의 프로세스에 특정 함수를 매핑해서 병렬처리하도록 구현하는 방법이 널리 사용됩니다."
   ]
  },
  {
   "cell_type": "code",
   "execution_count": 20,
   "metadata": {},
   "outputs": [
    {
     "name": "stdout",
     "output_type": "stream",
     "text": [
      "I'm process I'm process I'm process I'm process I'm process      1422214223142251422414226\n",
      "\n",
      "\n",
      "\n",
      "\n",
      "[2, 4, 6, 8, 10]\n"
     ]
    }
   ],
   "source": [
    "from multiprocessing import Pool\n",
    "from os import getpid\n",
    "\n",
    "def double(i):\n",
    "    print(\"I'm process \", getpid())    # pool 안에서 이 메소드가 실행될 때 pid를 확인해 봅시다.\n",
    "    return i * 2\n",
    "\n",
    "with Pool() as pool:\n",
    "      result = pool.map(double, [1, 2, 3, 4, 5])\n",
    "      print(result)"
   ]
  },
  {
   "cell_type": "markdown",
   "metadata": {},
   "source": [
    "위에서 double(i)이라는 메소드가 pool을 통해 각각 다른 pid를 가진 프로세스들 위에서 multiprocess로 실행되었다는 것을 확인할 수 있습니다.\n",
    "\n",
    "프로그래밍이 처음이신 분에게는 조금 낯선 개념일 수도 있습니다. 다음 스텝에서 실제 프로젝트로 구현해볼 예정이니 그때 조금 더 이해할 수 있을 거예요."
   ]
  },
  {
   "cell_type": "markdown",
   "metadata": {},
   "source": [
    "## 실전 예제 (1) futures 모듈\n",
    "\n",
    "이번 시간에는 concurrent.futures 모듈의 ProcessPoolExecutor 를 이용해 병렬 프로그래밍을 연습해 보도록 하겠습니다.\n",
    "\n",
    "* concurrent.futures 모듈에는 2가지 객체가 있습니다. 무엇인가요?\n",
    "\n",
    "    - Executor 객체\n",
    "        - 비동기적으로 호출을 실행하는 메서드를 제공하는 추상 클래스입니다. 직접 사용해서는 안 되며, 구체적인 하위 클래스를 통해 사용해야 합니다.\n",
    "\n",
    "    - Future 객체\n",
    "        - Future 클래스는 콜러블 객체의 비동기 실행을 캡슐화합니다. Future 인스턴스는 Executor.submit() 에 의해 생성됩니다.\n",
    "\n",
    "* Executor 객체에는 2개의 서브클래스가 있는데 무엇인가요?\n",
    "    - ThreadPoolExecutor\n",
    "        - 스레드 풀을 사용하여 호출을 비동기적으로 실행하는 Executor 서브 클래스입니다.\n",
    "        - Future와 관련된 콜러블 객체가 다른 Future 의 결과를 기다릴 때 교착 상태가 발생할 수 있습니다.\n",
    "    - ProcessPoolExecutor\n",
    "        - 프로세스 풀을 사용하여 비동기 적으로 호출을 실행하는 Executor 하위 클래스입니다. \n",
    "        - ProcessPoolExecutor는 다중 처리 모듈을 사용하여 Global Interpreter Lock을 우회 할 수 있지만 선택 가능한 개체 만 실행 및 반환 할 수 있습니다.\n",
    "\n",
    "* Executor 객체가 제공하는 메소드 3개는 무엇인가요?\n",
    "\n",
    "    - submit(fn, *args, **kwargs)\n",
    "        - 콜러블 fn 이 fn(*args **kwargs) 처럼 실행되도록 예약하고, 콜러블 객체의 실행을 나타내는 Future 객체를 반환합니다.\n",
    "    - map(func, *iterables, timeout=None, chunksize=1)\n",
    "        - map(func, *iterables) 과 비슷하지만, 다음과 같은 차이가 있습니다:\n",
    "        - iterables 는 느긋하게 처리되는 것이 아니라 즉시 수집됩니다.\n",
    "        - func 는 비동기적으로 실행되며 func 에 대한 여러 호출이 동시에 이루어질 수 있습니다.\n",
    "    - shutdown(wait=True)\n",
    "        - 현재 계류 중인 퓨처가 실행 완료될 때, 사용 중인 모든 자원을 해제해야 한다는 것을 실행기에 알립니다. \n",
    "        - 종료(shutdown) 후에 이루어지는 Executor.submit() 과 Executor.map() 호출은 RuntimeError 를 발생시킵니다."
   ]
  },
  {
   "cell_type": "markdown",
   "metadata": {},
   "source": [
    "## 실전 예제 (2) 튜토리얼"
   ]
  },
  {
   "cell_type": "markdown",
   "metadata": {},
   "source": [
    "### 1) 문제\n",
    "소수(prime) 판별 문제로 PRIMES 변수에 선언된 숫자들이 소수인지 아닌지를 판별합니다 ."
   ]
  },
  {
   "cell_type": "code",
   "execution_count": 21,
   "metadata": {},
   "outputs": [
    {
     "name": "stdout",
     "output_type": "stream",
     "text": [
      "🪐    .\n",
      "·   *\n",
      "  *   *\n",
      "🌲 🦕 🌳\n"
     ]
    }
   ],
   "source": [
    "import math\n",
    "import concurrent\n",
    "\n",
    "PRIMES = [\n",
    "    112272535095293,\n",
    "    112582705942171,\n",
    "    112272535095293,\n",
    "    115280095190773,\n",
    "    115797848077099,\n",
    "    1099726899285419]\n",
    "print(\"🪐    .\\n·   *\\n  *   *\\n🌲 🦕 🌳\")"
   ]
  },
  {
   "cell_type": "markdown",
   "metadata": {},
   "source": [
    "### 2) 소수판별 함수 is_prime\n",
    "소수를 판별하는 로직을 함수로 구현했습니다."
   ]
  },
  {
   "cell_type": "code",
   "execution_count": 22,
   "metadata": {},
   "outputs": [
    {
     "name": "stdout",
     "output_type": "stream",
     "text": [
      "🌲      🦕...\n"
     ]
    }
   ],
   "source": [
    "def is_prime(n):\n",
    "    if n < 2:\n",
    "        return False\n",
    "    if n == 2:\n",
    "        return True\n",
    "    if n % 2 == 0:\n",
    "        return False\n",
    "\n",
    "    sqrt_n = int(math.floor(math.sqrt(n)))\n",
    "    for i in range(3, sqrt_n + 1, 2):\n",
    "        if n % i == 0:\n",
    "            return False\n",
    "    return True\n",
    "print(\"🌲      🦕...\")"
   ]
  },
  {
   "cell_type": "markdown",
   "metadata": {},
   "source": [
    "### 3) 소수 판별 함수 호출\n",
    "main() 함수를 따로 작성하여 소수 판별 함수(is_prime)를 호출하였습니다.\n",
    "\n",
    "맵-리듀스(map-reduce)스타일로 코드를 작성하고 map() 함수를 ProcessPoolExecutor() 인스턴스에서 생성된 executor 에서 실행 시킵니다.\n",
    "\n",
    "concurrent.futures 라이브러리의 프로세스 풀에서 동작하게 하기 위해 with 문을 써서 구현했습니다."
   ]
  },
  {
   "cell_type": "code",
   "execution_count": 23,
   "metadata": {},
   "outputs": [
    {
     "name": "stdout",
     "output_type": "stream",
     "text": [
      "🌲   🦕.....\n"
     ]
    }
   ],
   "source": [
    "def main():\n",
    "    with concurrent.futures.ProcessPoolExecutor() as executor:\n",
    "        for number, prime in zip(PRIMES, executor.map(is_prime, PRIMES)):\n",
    "            print('%d is prime: %s' % (number, prime))\n",
    "print(\"🌲   🦕.....\")"
   ]
  },
  {
   "cell_type": "markdown",
   "metadata": {},
   "source": [
    "병렬처리와 단일처리의 비교를 위해 코드를 아래와 같이 수정해 볼게요.\n",
    "\n",
    "프로파일링을 위한 시간계산 코드를 추가\n",
    "단일처리로 수행했을 때의 코드를 추가, 단일처리 프로파일링을 위한 시간계산 코드를 추가."
   ]
  },
  {
   "cell_type": "code",
   "execution_count": 24,
   "metadata": {},
   "outputs": [
    {
     "name": "stdout",
     "output_type": "stream",
     "text": [
      " ❣\n",
      "🌲🦕.......\n"
     ]
    }
   ],
   "source": [
    "import time\n",
    "\n",
    "def main():\n",
    "    print(\"병렬처리 시작\")\n",
    "    start = time.time()\n",
    "    with concurrent.futures.ProcessPoolExecutor() as executor:\n",
    "        for number, prime in zip(PRIMES, executor.map(is_prime, PRIMES)):\n",
    "            print('%d is prime: %s' % (number, prime))\n",
    "    end = time.time()\n",
    "    print(\"병렬처리 수행 시각\", end-start, 's')\n",
    "\n",
    "    start = time.time()\n",
    "    for number, prime in zip(PRIMES, map(is_prime, PRIMES)):\n",
    "        print('%d is prime: %s' % (number, prime))\n",
    "    end = time.time()\n",
    "    print(\"단일처리 수행 시각\", end-start, 's')\n",
    "print(\" ❣\\n🌲🦕.......\")"
   ]
  },
  {
   "cell_type": "markdown",
   "metadata": {},
   "source": [
    "### 4) 전체 코드"
   ]
  },
  {
   "cell_type": "code",
   "execution_count": 25,
   "metadata": {},
   "outputs": [
    {
     "name": "stdout",
     "output_type": "stream",
     "text": [
      "병렬처리 시작\n",
      "112272535095293 is prime: True\n",
      "112582705942171 is prime: True\n",
      "112272535095293 is prime: True\n",
      "115280095190773 is prime: True\n",
      "115797848077099 is prime: True\n",
      "1099726899285419 is prime: False\n",
      "병렬처리 수행 시각 0.3953108787536621 s\n",
      "112272535095293 is prime: True\n",
      "112582705942171 is prime: True\n",
      "112272535095293 is prime: True\n",
      "115280095190773 is prime: True\n",
      "115797848077099 is prime: True\n",
      "1099726899285419 is prime: False\n",
      "단일처리 수행 시각 1.875671148300171 s\n"
     ]
    }
   ],
   "source": [
    "main()"
   ]
  },
  {
   "cell_type": "markdown",
   "metadata": {},
   "source": [
    "수행 시간은 PC성능에 따라 다르지만, 2.6GHz 6코어를 사용하는 CPU에서 돌린결과, 병렬로 처리하면 약 0.6초 걸리고, 단일처리하면 2.43초가 걸렸습니다.\n",
    "\n",
    "여러분 PC에서는 어떤가요?"
   ]
  },
  {
   "cell_type": "code",
   "execution_count": null,
   "metadata": {},
   "outputs": [],
   "source": []
  }
 ],
 "metadata": {
  "kernelspec": {
   "display_name": "aiffel",
   "language": "python",
   "name": "aiffel"
  },
  "language_info": {
   "codemirror_mode": {
    "name": "ipython",
    "version": 3
   },
   "file_extension": ".py",
   "mimetype": "text/x-python",
   "name": "python",
   "nbconvert_exporter": "python",
   "pygments_lexer": "ipython3",
   "version": "3.7.6"
  }
 },
 "nbformat": 4,
 "nbformat_minor": 4
}
